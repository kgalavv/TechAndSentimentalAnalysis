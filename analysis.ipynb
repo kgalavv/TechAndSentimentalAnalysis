{
 "cells": [
  {
   "cell_type": "code",
   "execution_count": null,
   "metadata": {},
   "outputs": [],
   "source": [
    "import json\n",
    "import pandas as pd\n",
    "import io\n",
    "from vaderSentiment.vaderSentiment import SentimentIntensityAnalyzer\n",
    "import numpy as np\n",
    "import matplotlib.pyplot as plt\n",
    "from tqdm import tnrange, tqdm_notebook, tqdm\n",
    "import glob\n",
    "from datetime import datetime, timedelta"
   ]
  },
  {
   "cell_type": "code",
   "execution_count": null,
   "metadata": {},
   "outputs": [],
   "source": [
    "CURRENCY = \"ethereum\"\n",
    "CURRENCY_SYMBOL = \"ETH\"\n",
    "CRYPTO_FOLDER = f\"data/crypto/{CURRENCY_SYMBOL}\"\n",
    "TWITTER_FOLDER = f\"data/twitter/{CURRENCY_SYMBOL}\""
   ]
  },
  {
   "cell_type": "code",
   "execution_count": null,
   "metadata": {},
   "outputs": [],
   "source": [
    "twitter_files = glob.glob(f\"{TWITTER_FOLDER}/*~*.csv\")\n",
    "twitter_files = sorted(twitter_files)\n",
    "\n",
    "dfs = []\n",
    "for file in twitter_files:\n",
    "    dfs.append(pd.read_csv(file))\n",
    "tweets = pd.concat(dfs)\n",
    "\n",
    "print('tweet shape before droping duplicates', tweets.shape)\n",
    "duplicates_removed = tweets.shape[0]\n",
    "tweets = tweets.drop_duplicates(subset=['ID'])\n",
    "duplicates_removed -= tweets.shape[0]\n",
    "print('tweet shape after droping duplicates', tweets.shape)\n",
    "print('duplicates removed', duplicates_removed)\n",
    "\n",
    "tweets.head(2)"
   ]
  },
  {
   "cell_type": "code",
   "execution_count": null,
   "metadata": {},
   "outputs": [],
   "source": [
    "CRYPTO_FOLDER = f\"data/crypto/{CURRENCY_SYMBOL}\"\n",
    "crypto_files = glob.glob(f\"{CRYPTO_FOLDER}/*.csv\")\n",
    "dfs = []\n",
    "for file in crypto_files:\n",
    "    dfs.append(pd.read_csv(file))\n",
    "crypto_usd = pd.concat(dfs)\n",
    "crypto_usd = crypto_usd.sort_values(by=['time'])\n",
    "\n",
    "print('bitcoin shape before droping duplicates', crypto_usd.shape)\n",
    "duplicates_removed = crypto_usd.shape[0]\n",
    "crypto_usd = crypto_usd.drop_duplicates(subset=['time'])\n",
    "print('bitcoin shape after droping duplicates', crypto_usd.shape)\n",
    "duplicates_removed -= crypto_usd.shape[0]\n",
    "print('duplicates removed', duplicates_removed)\n",
    "crypto_usd.head(2)"
   ]
  },
  {
   "cell_type": "code",
   "execution_count": null,
   "metadata": {
    "scrolled": false
   },
   "outputs": [],
   "source": [
    "tweets['CreatedAt'] = pd.to_datetime(tweets['CreatedAt'])\n",
    "tweets.index = tweets['CreatedAt']\n",
    "\n",
    "tweets_grouped = tweets.groupby(pd.TimeGrouper('1h'))['score'].sum()\n",
    "\n",
    "crypto_usd['time'] = pd.to_datetime(crypto_usd['time'], unit='s')\n",
    "crypto_usd.index = crypto_usd['time']\n",
    "\n",
    "crypto_usd_grouped = crypto_usd.groupby(pd.TimeGrouper('1h'))['close'].mean()"
   ]
  },
  {
   "cell_type": "code",
   "execution_count": null,
   "metadata": {
    "scrolled": false
   },
   "outputs": [],
   "source": [
    "fig, ax1 = plt.subplots(figsize=(20,10))\n",
    "ax1.set_title(\"Crypto currency evolution compared to twitter sentiment\", fontsize=18)\n",
    "ax1.tick_params(labelsize=14)\n",
    "ax2 = ax1.twinx()\n",
    "ax1.plot_date(tweets_grouped.index, tweets_grouped, 'g-')\n",
    "ax2.plot_date(crypto_usd_grouped.index, crypto_usd_grouped, 'b-')\n",
    "\n",
    "ax1.set_ylabel(\"Sentiment\", color='g', fontsize=16)\n",
    "ax2.set_ylabel(f\"{CURRENCY_SYMBOL} [$]\", color='b', fontsize=16)\n",
    "plt.show()"
   ]
  },
  {
   "cell_type": "code",
   "execution_count": null,
   "metadata": {},
   "outputs": [],
   "source": [
    "def crosscorr(datax, datay, lag=0, method=\"pearson\"):\n",
    "    return datax.corr(datay.shift(lag), method=method)"
   ]
  },
  {
   "cell_type": "code",
   "execution_count": null,
   "metadata": {},
   "outputs": [],
   "source": [
    "beggining = max(tweets_grouped.index.min(), crypto_usd_grouped.index.min())\n",
    "end = min(tweets_grouped.index.max(), crypto_usd_grouped.index.max())\n",
    "tweets_grouped = tweets_grouped[beggining:end]\n",
    "crypto_usd_grouped = crypto_usd_grouped[beggining:end]"
   ]
  },
  {
   "cell_type": "code",
   "execution_count": null,
   "metadata": {},
   "outputs": [],
   "source": [
    "fig, ax1 = plt.subplots(figsize=(20,10))\n",
    "ax1.set_title(\"Crypto currency evolution compared to twitter sentiment\", fontsize=18)\n",
    "ax1.tick_params(labelsize=14)\n",
    "ax2 = ax1.twinx()\n",
    "ax1.plot_date(tweets_grouped.index, tweets_grouped, 'g-')\n",
    "ax2.plot_date(crypto_usd_grouped.index, crypto_usd_grouped, 'b-')\n",
    "\n",
    "ax1.set_ylabel(\"Sentiment\", color='g', fontsize=16)\n",
    "ax2.set_ylabel(f\"{CURRENCY_SYMBOL} [$]\", color='b', fontsize=16)\n",
    "plt.show()"
   ]
  },
  {
   "cell_type": "code",
   "execution_count": null,
   "metadata": {},
   "outputs": [],
   "source": [
    "xcov = [crosscorr(tweets_grouped, crypto_usd_grouped, lag=i, method=\"pearson\") for i in range(-20,20)]\n",
    "plt.plot(range(-20,20), xcov)\n",
    "plt.title(\"pearson cross-correlation\")\n",
    "plt.xlabel(\"lag\")\n",
    "plt.ylabel(\"correlation\")\n",
    "plt.show()\n",
    "\n",
    "xcov = [crosscorr(tweets_grouped, crypto_usd_grouped, lag=i, method=\"kendall\") for i in range(-20,20)]\n",
    "plt.plot(range(-20,20), xcov)\n",
    "plt.title(\"kendall cross-correlation\")\n",
    "plt.xlabel(\"lag\")\n",
    "plt.ylabel(\"correlation\")\n",
    "plt.show()\n",
    "\n",
    "xcov = [crosscorr(tweets_grouped, crypto_usd_grouped, lag=i, method=\"spearman\") for i in range(-20,20)]\n",
    "plt.plot(range(-20,20), xcov)\n",
    "plt.title(\"spearman cross-correlation\")\n",
    "plt.xlabel(\"lag\")\n",
    "plt.ylabel(\"correlation\")\n",
    "plt.show()"
   ]
  },
  {
   "cell_type": "code",
   "execution_count": null,
   "metadata": {},
   "outputs": [],
   "source": [
    "tweets_grouped = tweets_grouped / max(tweets_grouped.max(), abs(tweets_grouped.min()))\n",
    "crypto_usd_grouped = crypto_usd_grouped / max(crypto_usd_grouped.max(), abs(crypto_usd_grouped.min()))\n",
    "\n",
    "fig, ax1 = plt.subplots(figsize=(20,10))\n",
    "ax1.set_title(\"Normalized Crypto currency evolution compared to normalized twitter sentiment\", fontsize=18)\n",
    "ax1.tick_params(labelsize=14)\n",
    "\n",
    "ax2 = ax1.twinx()\n",
    "ax1.plot_date(tweets_grouped.index, tweets_grouped, 'g-')\n",
    "ax2.plot_date(crypto_usd_grouped.index, crypto_usd_grouped, 'b-')\n",
    "\n",
    "ax1.set_ylabel(\"Sentiment\", color='g', fontsize=16)\n",
    "ax2.set_ylabel(f\"{CURRENCY_SYMBOL} normalized\", color='b', fontsize=16)\n",
    "plt.show()"
   ]
  },
  {
   "cell_type": "code",
   "execution_count": null,
   "metadata": {},
   "outputs": [],
   "source": [
    "xcov = [crosscorr(tweets_grouped, crypto_usd_grouped, lag=i) for i in range(-20,20)]\n",
    "plt.plot(range(-20,20), xcov)\n",
    "plt.title(\"lag's impact on correlation (normalized)\")\n",
    "plt.xlabel(\"lag\")\n",
    "plt.ylabel(\"correlation\")\n",
    "plt.show()"
   ]
  },
  {
   "cell_type": "code",
   "execution_count": null,
   "metadata": {},
   "outputs": [],
   "source": [
    "tweets_grouped = pd.Series(np.gradient(tweets_grouped.values), tweets_grouped.index, name='slope')\n",
    "crypto_usd_grouped = pd.Series(np.gradient(crypto_usd_grouped.values), crypto_usd_grouped.index, name='slope')"
   ]
  },
  {
   "cell_type": "code",
   "execution_count": null,
   "metadata": {
    "scrolled": false
   },
   "outputs": [],
   "source": [
    "fig, ax1 = plt.subplots(figsize=(20,10))\n",
    "ax1.set_title(\"Derivative of crypto currency and sentiment's score\", fontsize=18)\n",
    "ax1.tick_params(labelsize=14)\n",
    "\n",
    "ax2 = ax1.twinx()\n",
    "ax1.plot_date(tweets_grouped.index, tweets_grouped, 'g-')\n",
    "ax2.plot_date(crypto_usd_grouped.index, crypto_usd_grouped, 'b-')\n",
    "\n",
    "ax1.set_ylabel(\"Sentiment's derivative\", color='g', fontsize=16)\n",
    "ax2.set_ylabel(f\"{CURRENCY_SYMBOL}'s derivative'\", color='b', fontsize=16)\n",
    "plt.show()"
   ]
  },
  {
   "cell_type": "code",
   "execution_count": null,
   "metadata": {},
   "outputs": [],
   "source": [
    "xcov = [crosscorr(tweets_grouped, crypto_usd_grouped, lag=i, method=\"pearson\") for i in range(-20,20)]\n",
    "plt.plot(range(-20,20), xcov)\n",
    "plt.title(\"pearson cross-corelation (derivative)\")\n",
    "plt.xlabel(\"lag\")\n",
    "plt.ylabel(\"correlation\")\n",
    "plt.show()\n",
    "\n",
    "xcov = [crosscorr(tweets_grouped, crypto_usd_grouped, lag=i, method=\"kendall\") for i in range(-20,20)]\n",
    "plt.plot(range(-20,20), xcov)\n",
    "plt.title(\"kendall cross-corelation (derivative)\")\n",
    "plt.xlabel(\"lag\")\n",
    "plt.ylabel(\"correlation\")\n",
    "plt.show()\n",
    "\n",
    "xcov = [crosscorr(tweets_grouped, crypto_usd_grouped, lag=i, method=\"spearman\") for i in range(-20,20)]\n",
    "plt.plot(range(-20,20), xcov)\n",
    "plt.title(\"spearman cross-corelation (derivative)\")\n",
    "plt.xlabel(\"lag\")\n",
    "plt.ylabel(\"correlation\")\n",
    "plt.show()"
   ]
  },
  {
   "cell_type": "code",
   "execution_count": null,
   "metadata": {},
   "outputs": [],
   "source": [
    "file = open(\"current_crypto.txt\", \"w\") \n",
    "file.write(CURRENCY_SYMBOL)\n",
    "file.close()\n",
    "%run 03_CryptoCurrencyExtraction.ipynb"
   ]
  },
  {
   "cell_type": "code",
   "execution_count": null,
   "metadata": {},
   "outputs": [],
   "source": [
    "def get_most_recent_data_from_csv(folder, n_rows):\n",
    "    files =  glob.glob(f\"{folder}/*.csv\")\n",
    "    files = sorted(files)\n",
    "    df = pd.DataFrame()\n",
    "    for file in reversed(files):\n",
    "        print(file)\n",
    "        df = df.append(pd.read_csv(file))\n",
    "        if df.shape[0] > n_rows:\n",
    "            break\n",
    "    return df.sort_values(by=['time']).tail(n_rows)"
   ]
  },
  {
   "cell_type": "code",
   "execution_count": null,
   "metadata": {
    "scrolled": false
   },
   "outputs": [],
   "source": [
    "import plotly.plotly as py\n",
    "import plotly.graph_objs as go\n",
    "from datetime import datetime, timedelta\n",
    "from time import sleep\n",
    "import plotly.tools as tls  \n",
    "\n",
    "stream_id_crypto, stream_id_tweets = tls.get_credentials_file()['stream_ids'][:2]\n",
    "\n",
    "\n",
    "stream_tweets = go.Stream(\n",
    "    token=stream_id_tweets, \n",
    "    maxpoints=1500     \n",
    ")\n",
    "\n",
    "stream_crypto = go.Stream(\n",
    "    token=stream_id_crypto, \n",
    "    maxpoints=200  \n",
    ")\n",
    "\n",
    "\n",
    "trace_tweets = go.Scatter(x=[], y=[], mode='lines', name='Sentiments', stream=stream_tweets)\n",
    "\n",
    "CRYPTO_FOLDER = f\"data/crypto/{CURRENCY_SYMBOL}\"\n",
    "crypto_usd_updated = get_most_recent_data_from_csv(CRYPTO_FOLDER, 5)\n",
    "\n",
    "crypto_usd_updated = crypto_usd_updated.drop_duplicates(subset=['time'])\n",
    "trace_crypto = go.Scatter(x=crypto_usd_updated['time'].tail(200).apply(lambda x: datetime.fromtimestamp(x).strftime('%Y-%m-%d %H:%M:%S')),\n",
    "                          y=crypto_usd_updated['close'].tail(200), yaxis='y2', stream=stream_crypto, name = CURRENCY_SYMBOL)\n",
    "\n",
    "\n",
    "data = [trace_crypto, trace_tweets]\n",
    "\n",
    "\n",
    "layout = go.Layout(\n",
    "    title=f\"{CURRENCY_SYMBOL} currency and tweets sentiments\",\n",
    "    legend=dict(orientation=\"h\"),\n",
    "    yaxis=dict(\n",
    "        title='Sentiment score',\n",
    "        titlefont=dict(\n",
    "            color='rgb(255, 119, 0)'\n",
    "        ),\n",
    "        tickfont=dict(\n",
    "            color='rgb(255, 119, 0)'\n",
    "        )\n",
    "    ),\n",
    "    yaxis2=dict(\n",
    "        title='{CURRENCY_SYMBOL} Price ($ USD)',\n",
    "        titlefont=dict(\n",
    "            color='rgb(33, 118, 180)'\n",
    "        ),\n",
    "        tickfont=dict(\n",
    "            color='rgb(33, 118, 180)'\n",
    "        ),\n",
    "        overlaying='y',\n",
    "        side='right'\n",
    "    )\n",
    ")\n",
    "\n",
    "\n",
    "fig = go.Figure(data=data, layout=layout)\n",
    "\n",
    "py.iplot(fig, filename=f\"real_time_{CURRENCY_SYMBOL}_tweets\", fileopt=\"overwrite\")"
   ]
  },
  {
   "cell_type": "code",
   "execution_count": null,
   "metadata": {},
   "outputs": [],
   "source": [
    "from twython import TwythonStreamer\n",
    "import time\n",
    "from vaderSentiment.vaderSentiment import SentimentIntensityAnalyzer\n",
    "\n",
    "s_tweets = py.Stream(stream_id_tweets)\n",
    "\n",
    "s_tweets.open()\n",
    "\n",
    "analyzer = SentimentIntensityAnalyzer()\n",
    "\n",
    "class MyStreamer(TwythonStreamer):\n",
    "    def on_success(self, data):\n",
    "        if 'text' in data:\n",
    "\n",
    "            date_str = data['created_at']\n",
    "            time_struct = time.strptime(date_str, \"%a %b %d %H:%M:%S +0000 %Y\")\n",
    "            date = datetime.fromtimestamp(time.mktime(time_struct))\n",
    "            date = date + timedelta(hours=4) \n",
    "            \n",
    "\n",
    "            text = data['text']\n",
    "            vs = analyzer.polarity_scores(text)\n",
    "            score = vs[\"compound\"] * (data[\"user\"][\"followers_count\"]+1) * (data[\"favorite_count\"]+1)\n",
    "        \n",
    "            s_tweets.write(dict(type='scatter',\n",
    "                 x=date,y=score))\n",
    "\n",
    "    def on_error(self, status_code, data):\n",
    "        print(status_code, data)\n",
    "\n",
    "        \n",
    "APP_KEY = 'mPQKoRwd2Pb9qpQyQmyG5s8KR'\n",
    "APP_SECRET = 'HLvIhusvfzDLKaRXY8CnZGP143kp3E3f2KqQBIEMfVL5mOxZjq'\n",
    "OAUTH_TOKEN = \"3459248236-0XPtHldG3ou6BfpTwaKWnOL2ywFk2niQekLwE7K\"\n",
    "OAUTH_TOKEN_SECRET = \"08Vy2wuOkp7AmuC3rbjCHFJ94MLG2sWqdvGQtoiXmkVKr\"\n",
    "\n",
    "stream = MyStreamer(APP_KEY, APP_SECRET,\n",
    "                    OAUTH_TOKEN, OAUTH_TOKEN_SECRET)\n",
    "stream.statuses.filter(track=['#bitcoin', '#BTC'], lang='en')"
   ]
  },
  {
   "cell_type": "code",
   "execution_count": null,
   "metadata": {},
   "outputs": [],
   "source": [
    "s_tweets.close() "
   ]
  }
 ],
 "metadata": {
  "kernelspec": {
   "display_name": "Python 3 (ipykernel)",
   "language": "python",
   "name": "python3"
  },
  "language_info": {
   "codemirror_mode": {
    "name": "ipython",
    "version": 3
   },
   "file_extension": ".py",
   "mimetype": "text/x-python",
   "name": "python",
   "nbconvert_exporter": "python",
   "pygments_lexer": "ipython3",
   "version": "3.9.7"
  }
 },
 "nbformat": 4,
 "nbformat_minor": 1
}
