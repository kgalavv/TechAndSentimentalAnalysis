{
 "cells": [
  {
   "cell_type": "code",
   "execution_count": null,
   "metadata": {},
   "outputs": [],
   "source": [
    "import plotly.plotly as py\n",
    "import plotly.graph_objs as go\n",
    "import glob\n",
    "import pandas as pd\n",
    "from datetime import datetime\n",
    "from time import sleep\n",
    "import plotly.tools as tls  \n",
    "import numpy as np\n",
    "\n",
    "CRYPTO_SYMBOL = 'ETH'\n",
    "CRYPTO_FOLDER = f\"data/crypto/{CRYPTO_SYMBOL}\""
   ]
  },
  {
   "cell_type": "code",
   "execution_count": null,
   "metadata": {},
   "outputs": [],
   "source": [
    "crypto_files = glob.glob(f\"{CRYPTO_FOLDER}/*.csv\")\n",
    "dfs = []\n",
    "for file in crypto_files:\n",
    "    dfs.append(pd.read_csv(file))\n",
    "df_crypto = pd.concat(dfs)\n",
    "df_crypto = df_crypto.sort_values(by=['time'])\n",
    "df_crypto['time'] = df_crypto['time'].apply(lambda x: datetime.fromtimestamp(x).strftime('%Y-%m-%d %H:%M:%S'))\n",
    "\n",
    "df_crypto.shape"
   ]
  },
  {
   "cell_type": "code",
   "execution_count": null,
   "metadata": {},
   "outputs": [],
   "source": [
    "TWEETS_FOLDER = \"\"\n",
    "tweet_file = \"tweets_clean.csv\"\n",
    "df_tweets = pd.read_csv(tweet_file)\n",
    "df_tweets.shape"
   ]
  },
  {
   "cell_type": "code",
   "execution_count": null,
   "metadata": {
    "scrolled": false
   },
   "outputs": [],
   "source": [
    "stream_id_crypto, stream_id_tweets = tls.get_credentials_file()['stream_ids'][:2]\n",
    "\n",
    "stream_crypto = go.Stream(\n",
    "    token=stream_id_crypto, \n",
    "    maxpoints=1000      \n",
    ")\n",
    "\n",
    "stream_tweets = go.Stream(\n",
    "    token=stream_id_tweets, \n",
    "    maxpoints=1000  \n",
    ")\n",
    "\n",
    "df_crypto_small = df_crypto.tail(1000).head(500)\n",
    "\n",
    "\n",
    "trace_crypto = go.Ohlc(x=df_crypto_small.time,\n",
    "                              open=df_crypto_small.open,\n",
    "                              high=df_crypto_small.high,\n",
    "                              low=df_crypto_small.low,\n",
    "                              close=df_crypto_small.close,\n",
    "                              stream=stream_crypto)\n",
    "data = [trace_crypto]\n",
    "\n",
    "\n",
    "layout = {\n",
    "    'title': f\"{CRYPTO_SYMBOL} currency\",\n",
    "    'yaxis': {'title': 'Price USD'},\n",
    "}\n",
    "\n",
    "\n",
    "fig = go.Figure(data=data, layout=layout)\n",
    "\n",
    "py.iplot(fig, filename=f\"real_time_{CRYPTO_SYMBOL}_tweets\")"
   ]
  },
  {
   "cell_type": "code",
   "execution_count": null,
   "metadata": {},
   "outputs": [],
   "source": [
    "s = py.Stream(stream_id_crypto)\n",
    "\n",
    "\n",
    "s.open()\n",
    " \n",
    "i = 0    \n",
    "k = 5   \n",
    "\n",
    "\n",
    "sleep(5) \n",
    "df_len = df_crypto.shape[0]\n",
    "\n",
    "while True:\n",
    "\n",
    "    current = df_crypto.iloc[df_len-500+i]\n",
    "    i += 1\n",
    "        \n",
    "    s.write(dict(type='ohlc',\n",
    "                 x=current.time,\n",
    "                 open=current.open,\n",
    "                 high=current.high,\n",
    "                 low=current.low,\n",
    "                 close=current.close))\n",
    "\n",
    "            \n",
    "    sleep(.1)  \n",
    "\n",
    "\n",
    "s.close() "
   ]
  },
  {
   "cell_type": "code",
   "execution_count": null,
   "metadata": {},
   "outputs": [],
   "source": [
    "\n",
    "s.close() "
   ]
  },
  {
   "cell_type": "code",
   "execution_count": null,
   "metadata": {},
   "outputs": [],
   "source": [
    "import urllib.request\n",
    "import pandas as pd\n",
    "import json\n",
    "from time import sleep\n",
    "\n",
    "\n",
    "CURRENCY         = \"USD\" \n",
    "CRYPTO_SYMBOL    = \"ETH\"\n",
    "APP_NAME         = \"HES_SO_master_crypto_analysis\"\n",
    "BASE_URL         = f\"https://min-api.cryptocompare.com/data/price\" "
   ]
  },
  {
   "cell_type": "code",
   "execution_count": null,
   "metadata": {},
   "outputs": [],
   "source": [
    "def get_data_secondly():\n",
    "    contents = urllib.request.urlopen(\n",
    "        f\"{BASE_URL}?fsym={CRYPTO_SYMBOL}&tsyms={CURRENCY}&extraParams={APP_NAME}\"\n",
    "    ).read()\n",
    "    json_string = contents.decode(\"utf-8\")\n",
    "    print(json_string)\n"
   ]
  },
  {
   "cell_type": "code",
   "execution_count": null,
   "metadata": {},
   "outputs": [],
   "source": [
    "while True:\n",
    "    get_data_secondly()\n",
    "            \n",
    "    sleep(1)  "
   ]
  }
 ],
 "metadata": {
  "kernelspec": {
   "display_name": "Python 3 (ipykernel)",
   "language": "python",
   "name": "python3"
  },
  "language_info": {
   "codemirror_mode": {
    "name": "ipython",
    "version": 3
   },
   "file_extension": ".py",
   "mimetype": "text/x-python",
   "name": "python",
   "nbconvert_exporter": "python",
   "pygments_lexer": "ipython3",
   "version": "3.9.7"
  }
 },
 "nbformat": 4,
 "nbformat_minor": 2
}
